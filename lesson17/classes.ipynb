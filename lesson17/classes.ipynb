{
 "cells": [
  {
   "cell_type": "markdown",
   "metadata": {},
   "source": [
    "# Analysis of Brandeis classes in pandas\n",
    "Here we show how to use pandas to analyze the Brandeis course data stored in data/courses\n",
    "\n",
    "Some questions we can try to answer\n",
    "* which faculty have taught the most students over the Fall2004-Summer2021 interval\n",
    "* which departments offer the most courses\n",
    "* which departments have had the most students\n",
    "* how have the enrollents by departments changed\n",
    "* etc, as in PA01\n",
    "\n",
    "We'll show how to use pivot tables and aggregation to answer some of these.\n",
    "\n",
    "This notebook shows how to use aggregation with groupby, pivot tables, and how to create new columns by applying some function to other columns.\n"
   ]
  },
  {
   "cell_type": "code",
   "execution_count": 1,
   "metadata": {
    "tags": []
   },
   "outputs": [],
   "source": [
    "import numpy as np\n",
    "import pandas as pd\n",
    "from matplotlib import pyplot as plt"
   ]
  },
  {
   "cell_type": "markdown",
   "metadata": {},
   "source": [
    "First we read in the data from Fall 2004 to Summer 2021 with minimal info about each course"
   ]
  },
  {
   "cell_type": "code",
   "execution_count": 2,
   "metadata": {
    "tags": []
   },
   "outputs": [
    {
     "data": {
      "text/html": [
       "<div>\n",
       "<style scoped>\n",
       "    .dataframe tbody tr th:only-of-type {\n",
       "        vertical-align: middle;\n",
       "    }\n",
       "\n",
       "    .dataframe tbody tr th {\n",
       "        vertical-align: top;\n",
       "    }\n",
       "\n",
       "    .dataframe thead th {\n",
       "        text-align: right;\n",
       "    }\n",
       "</style>\n",
       "<table border=\"1\" class=\"dataframe\">\n",
       "  <thead>\n",
       "    <tr style=\"text-align: right;\">\n",
       "      <th></th>\n",
       "      <th>subj</th>\n",
       "      <th>num</th>\n",
       "      <th>suf</th>\n",
       "      <th>format</th>\n",
       "      <th>term</th>\n",
       "      <th>code</th>\n",
       "      <th>inst</th>\n",
       "      <th>title</th>\n",
       "      <th>sec</th>\n",
       "      <th>enr</th>\n",
       "    </tr>\n",
       "  </thead>\n",
       "  <tbody>\n",
       "    <tr>\n",
       "      <th>0</th>\n",
       "      <td>NEJS</td>\n",
       "      <td>188</td>\n",
       "      <td>A</td>\n",
       "      <td>LEC</td>\n",
       "      <td>Fall 2004</td>\n",
       "      <td>1043</td>\n",
       "      <td>Levy, Avigdor</td>\n",
       "      <td>RISE/DECLINE:OTTOMAN EMP</td>\n",
       "      <td>1</td>\n",
       "      <td>32</td>\n",
       "    </tr>\n",
       "    <tr>\n",
       "      <th>1</th>\n",
       "      <td>CHEM</td>\n",
       "      <td>121</td>\n",
       "      <td>A</td>\n",
       "      <td>LEC</td>\n",
       "      <td>Fall 2004</td>\n",
       "      <td>1043</td>\n",
       "      <td>Foxman, Bruce</td>\n",
       "      <td>INORGANIC CHEM I, LECS.</td>\n",
       "      <td>1</td>\n",
       "      <td>18</td>\n",
       "    </tr>\n",
       "    <tr>\n",
       "      <th>2</th>\n",
       "      <td>CHEM</td>\n",
       "      <td>130</td>\n",
       "      <td>A</td>\n",
       "      <td>LEC</td>\n",
       "      <td>Fall 2004</td>\n",
       "      <td>1043</td>\n",
       "      <td>Yu, Jinquan</td>\n",
       "      <td>ADV ORG. CHEM: STRUCTURE</td>\n",
       "      <td>1</td>\n",
       "      <td>14</td>\n",
       "    </tr>\n",
       "    <tr>\n",
       "      <th>3</th>\n",
       "      <td>COMP</td>\n",
       "      <td>1</td>\n",
       "      <td>A</td>\n",
       "      <td>LEC</td>\n",
       "      <td>Fall 2004</td>\n",
       "      <td>1043</td>\n",
       "      <td>Ruesch, Gordon</td>\n",
       "      <td>COMPOSITION</td>\n",
       "      <td>3</td>\n",
       "      <td>11</td>\n",
       "    </tr>\n",
       "    <tr>\n",
       "      <th>4</th>\n",
       "      <td>MUS</td>\n",
       "      <td>118</td>\n",
       "      <td>A</td>\n",
       "      <td>STD</td>\n",
       "      <td>Fall 2004</td>\n",
       "      <td>1043</td>\n",
       "      <td>Ray, Mary</td>\n",
       "      <td>SENIOR RECITAL I</td>\n",
       "      <td>1</td>\n",
       "      <td>3</td>\n",
       "    </tr>\n",
       "    <tr>\n",
       "      <th>...</th>\n",
       "      <td>...</td>\n",
       "      <td>...</td>\n",
       "      <td>...</td>\n",
       "      <td>...</td>\n",
       "      <td>...</td>\n",
       "      <td>...</td>\n",
       "      <td>...</td>\n",
       "      <td>...</td>\n",
       "      <td>...</td>\n",
       "      <td>...</td>\n",
       "    </tr>\n",
       "    <tr>\n",
       "      <th>35201</th>\n",
       "      <td>BIOL</td>\n",
       "      <td>26</td>\n",
       "      <td>A</td>\n",
       "      <td>LEC</td>\n",
       "      <td>Summer 2021</td>\n",
       "      <td>1212</td>\n",
       "      <td>Kosinski-Collins, Melissa</td>\n",
       "      <td>Plant Biology</td>\n",
       "      <td>1</td>\n",
       "      <td>9</td>\n",
       "    </tr>\n",
       "    <tr>\n",
       "      <th>35202</th>\n",
       "      <td>ECON</td>\n",
       "      <td>28</td>\n",
       "      <td>B</td>\n",
       "      <td>LEC</td>\n",
       "      <td>Summer 2021</td>\n",
       "      <td>1212</td>\n",
       "      <td>AlMehdar, Mohammed</td>\n",
       "      <td>The Global Economy</td>\n",
       "      <td>1</td>\n",
       "      <td>4</td>\n",
       "    </tr>\n",
       "    <tr>\n",
       "      <th>35203</th>\n",
       "      <td>PHIL</td>\n",
       "      <td>1</td>\n",
       "      <td>A</td>\n",
       "      <td>LEC</td>\n",
       "      <td>Summer 2021</td>\n",
       "      <td>1212</td>\n",
       "      <td>Lupu, Peter</td>\n",
       "      <td>Introduction to Philosophy</td>\n",
       "      <td>1</td>\n",
       "      <td>3</td>\n",
       "    </tr>\n",
       "    <tr>\n",
       "      <th>35204</th>\n",
       "      <td>AAAS</td>\n",
       "      <td>160</td>\n",
       "      <td>B</td>\n",
       "      <td>LEC</td>\n",
       "      <td>Summer 2021</td>\n",
       "      <td>1212</td>\n",
       "      <td>Plumb, Betsy Loren</td>\n",
       "      <td>If We Must Die: War and Military Service in Af...</td>\n",
       "      <td>1</td>\n",
       "      <td>3</td>\n",
       "    </tr>\n",
       "    <tr>\n",
       "      <th>35205</th>\n",
       "      <td>IGS</td>\n",
       "      <td>130</td>\n",
       "      <td>A</td>\n",
       "      <td>LEC</td>\n",
       "      <td>Summer 2021</td>\n",
       "      <td>1212</td>\n",
       "      <td>Campion, Selene</td>\n",
       "      <td>Global Migration</td>\n",
       "      <td>1</td>\n",
       "      <td>1</td>\n",
       "    </tr>\n",
       "  </tbody>\n",
       "</table>\n",
       "<p>35206 rows × 10 columns</p>\n",
       "</div>"
      ],
      "text/plain": [
       "       subj  num suf format         term  code                       inst  \\\n",
       "0      NEJS  188   A    LEC    Fall 2004  1043              Levy, Avigdor   \n",
       "1      CHEM  121   A    LEC    Fall 2004  1043              Foxman, Bruce   \n",
       "2      CHEM  130   A    LEC    Fall 2004  1043                Yu, Jinquan   \n",
       "3      COMP    1   A    LEC    Fall 2004  1043             Ruesch, Gordon   \n",
       "4       MUS  118   A    STD    Fall 2004  1043                  Ray, Mary   \n",
       "...     ...  ...  ..    ...          ...   ...                        ...   \n",
       "35201  BIOL   26   A    LEC  Summer 2021  1212  Kosinski-Collins, Melissa   \n",
       "35202  ECON   28   B    LEC  Summer 2021  1212         AlMehdar, Mohammed   \n",
       "35203  PHIL    1   A    LEC  Summer 2021  1212                Lupu, Peter   \n",
       "35204  AAAS  160   B    LEC  Summer 2021  1212         Plumb, Betsy Loren   \n",
       "35205   IGS  130   A    LEC  Summer 2021  1212            Campion, Selene   \n",
       "\n",
       "                                                   title sec  enr  \n",
       "0                               RISE/DECLINE:OTTOMAN EMP   1   32  \n",
       "1                                INORGANIC CHEM I, LECS.   1   18  \n",
       "2                               ADV ORG. CHEM: STRUCTURE   1   14  \n",
       "3                                            COMPOSITION   3   11  \n",
       "4                                       SENIOR RECITAL I   1    3  \n",
       "...                                                  ...  ..  ...  \n",
       "35201                                      Plant Biology   1    9  \n",
       "35202                                 The Global Economy   1    4  \n",
       "35203                         Introduction to Philosophy   1    3  \n",
       "35204  If We Must Die: War and Military Service in Af...   1    3  \n",
       "35205                                   Global Migration   1    1  \n",
       "\n",
       "[35206 rows x 10 columns]"
      ]
     },
     "execution_count": 2,
     "metadata": {},
     "output_type": "execute_result"
    }
   ],
   "source": [
    "df = pd.read_csv('data2/classes/courses.csv')\n",
    "df"
   ]
  },
  {
   "cell_type": "markdown",
   "metadata": {},
   "source": [
    "# exporting pandas data frames to json\n",
    "Here we show how to export a data frame to json\n"
   ]
  },
  {
   "cell_type": "code",
   "execution_count": null,
   "metadata": {},
   "outputs": [],
   "source": [
    "import json\n",
    "result = df.to_json(orient=\"split\")\n",
    "parsed = json.loads(result)\n",
    "z = json.dumps(parsed, indent=4) \n",
    "len(z)\n",
    "jfile = open('data2/courses_2005-2020.json','w')\n",
    "jfile.write(z)\n",
    "jfile.close()"
   ]
  },
  {
   "cell_type": "markdown",
   "metadata": {},
   "source": [
    "# Finding teachers with the most students\n",
    "The easiest way to do this is with a groupby it shows the three stages of groupby\n",
    "1. grouping of rows together based on the value in a column ('inst')\n",
    "1. projection of those rows into a set of values (what value are we interested in) (enr)\n",
    "1. aggregation of those values into a single value with some operator from arrays to numbers (sum)\n",
    "\n",
    "The groupby feature has the following syntax\n",
    "``` python\n",
    "a = df.groupby(GROUPED_COLUMNS)\n",
    "b = a[TARGET_COLUMN]\n",
    "c = b.agg(AGGREGATORS)\n",
    "```\n",
    "Its use is to compile summary statistics. \n",
    "\n",
    "The groupby method partitions the rows into groups that have the same values on the specified columns.\n",
    "\n",
    "We can then specify some Target columns and some aggregators (sum, np.mean, np.max, len) to produce a single value for all of the rows in each group.\n",
    "\n",
    "Some examples will make it clear!\n",
    "\n"
   ]
  },
  {
   "cell_type": "code",
   "execution_count": null,
   "metadata": {},
   "outputs": [],
   "source": [
    "#fac = df.groupby(['inst','subject'])['enr'].agg(sum)\n",
    "#fac\n",
    "fac = df.groupby(['inst','subj'])\n",
    "fac = fac['enr'].agg([sum, np.mean, np.max,np.min,len])\n",
    "fac = fac.sort_values(ascending=False,by='sum')\n",
    "fac.head(40)\n",
    "\n"
   ]
  },
  {
   "cell_type": "markdown",
   "metadata": {},
   "source": [
    "## Here is another example\n",
    "We're finding the statistics about courses that Dan Perlman has taught, grouped by subject."
   ]
  },
  {
   "cell_type": "code",
   "execution_count": null,
   "metadata": {},
   "outputs": [],
   "source": [
    "\n",
    "df[ df['inst']=='Perlman, Dan' ].groupby('title')['enr'].agg([sum, len, np.mean])"
   ]
  },
  {
   "cell_type": "markdown",
   "metadata": {},
   "source": [
    "## Sorting the Series\n",
    "We can sort the values if we want and we can use .head(N) and .tail(N) to look at either end of the sorted series."
   ]
  },
  {
   "cell_type": "code",
   "execution_count": null,
   "metadata": {},
   "outputs": [],
   "source": [
    "fac.sort_values(by='sum',ascending=False)"
   ]
  },
  {
   "cell_type": "code",
   "execution_count": null,
   "metadata": {},
   "outputs": [],
   "source": [
    "fac.head(1010).tail(10)"
   ]
  },
  {
   "cell_type": "code",
   "execution_count": null,
   "metadata": {},
   "outputs": [],
   "source": [
    "df"
   ]
  },
  {
   "cell_type": "markdown",
   "metadata": {},
   "source": [
    "# Finding departments (subj) with the most students per year\n",
    "Let's do another example of aggregation, to sum the enrollments for each department over all years"
   ]
  },
  {
   "cell_type": "code",
   "execution_count": null,
   "metadata": {},
   "outputs": [],
   "source": [
    "depts = df.groupby('subj')['enr'].agg(sum)\n",
    "depts"
   ]
  },
  {
   "cell_type": "markdown",
   "metadata": {},
   "source": [
    "It is more interesting to look at enrollments per year"
   ]
  },
  {
   "cell_type": "code",
   "execution_count": null,
   "metadata": {},
   "outputs": [],
   "source": [
    "def div17(x):\n",
    "    return x/17\n",
    "depts = depts.apply(div17)\n",
    "depts"
   ]
  },
  {
   "cell_type": "code",
   "execution_count": null,
   "metadata": {},
   "outputs": [],
   "source": [
    "depts = depts.sort_values()\n",
    "depts = depts[::-1]\n",
    "depts.head(20)"
   ]
  },
  {
   "cell_type": "code",
   "execution_count": null,
   "metadata": {},
   "outputs": [],
   "source": []
  },
  {
   "cell_type": "markdown",
   "metadata": {},
   "source": [
    "# Restricting to a time interval\n",
    "Let's do the same but just look for the past 4 years, i.e. from Fall2017 to Summer 2021 which are the codes 1173 to 1212.\n"
   ]
  },
  {
   "cell_type": "code",
   "execution_count": null,
   "metadata": {},
   "outputs": [],
   "source": [
    "df2 = df[df['code']>=1193]\n",
    "df2\n",
    "#islater = df['code']>= 1173\n",
    "#df[islater]"
   ]
  },
  {
   "cell_type": "markdown",
   "metadata": {},
   "source": [
    "## aggregate by summing the enrollments for each subject"
   ]
  },
  {
   "cell_type": "code",
   "execution_count": null,
   "metadata": {},
   "outputs": [],
   "source": [
    "depts = df2.groupby(['subj'])['enr'].agg(sum)\n",
    "depts = depts.sort_values(ascending=False)\n",
    "depts.head(20)\n",
    "                     \n"
   ]
  },
  {
   "cell_type": "markdown",
   "metadata": {},
   "source": [
    "# Time series\n",
    "Now lets try to get time series data and plot the enrollments in a department by year.\n",
    "Let's first add a new column giving the academic year, so Fall2004 and Spring 2005 and Summer2005 would all be 2004\n"
   ]
  },
  {
   "cell_type": "code",
   "execution_count": null,
   "metadata": {},
   "outputs": [],
   "source": [
    "def code2year(code):\n",
    "    ''' returns the academic year corresponding to a code'''\n",
    "    code=str(code)\n",
    "    year = int(\"20\"+code[1:-1])\n",
    "    if code[-1]!='3':\n",
    "        year = year -1\n",
    "    return year\n",
    "print(code2year('1051'))\n",
    "\n"
   ]
  },
  {
   "cell_type": "markdown",
   "metadata": {},
   "source": [
    "### the original data frame has no 'year' column"
   ]
  },
  {
   "cell_type": "code",
   "execution_count": null,
   "metadata": {},
   "outputs": [],
   "source": [
    "df"
   ]
  },
  {
   "cell_type": "markdown",
   "metadata": {},
   "source": [
    "### create a new column for the year\n",
    "We can apply the code2year function to each of the integers in the 'code' column to get a new series,\n",
    "and then assign that series to be a new column 'year' of the df dataframe"
   ]
  },
  {
   "cell_type": "code",
   "execution_count": null,
   "metadata": {},
   "outputs": [],
   "source": [
    "df['year'] = df['code'].apply(code2year)\n",
    "df"
   ]
  },
  {
   "cell_type": "markdown",
   "metadata": {},
   "source": [
    "# Group by the year and subject\n",
    "This creates a new Series with a multi-index containing both year and subject"
   ]
  },
  {
   "cell_type": "code",
   "execution_count": null,
   "metadata": {},
   "outputs": [],
   "source": [
    "depts_enr = df.groupby(['subj','year'])['enr'].agg(sum)\n",
    "depts_enr['COSI'].plot()\n",
    "plt.axis([2004,2021,0,2500])\n",
    "plt.grid()\n"
   ]
  },
  {
   "cell_type": "code",
   "execution_count": null,
   "metadata": {},
   "outputs": [],
   "source": [
    "depts_enr = df.groupby(['year','subj'])['enr'].agg(sum)\n",
    "depts_enr"
   ]
  },
  {
   "cell_type": "markdown",
   "metadata": {},
   "source": [
    "# Reset to a single index\n",
    "We can use the reset_index method to make the subj part of the index into a column\n"
   ]
  },
  {
   "cell_type": "code",
   "execution_count": null,
   "metadata": {},
   "outputs": [],
   "source": [
    "depts_enr = depts_enr.reset_index(level=['subj'])\n",
    "depts_enr"
   ]
  },
  {
   "cell_type": "markdown",
   "metadata": {},
   "source": [
    "# Create a Pivot table of enrollments by department and year\n",
    "Now we do the usual construction of a pivot table"
   ]
  },
  {
   "cell_type": "code",
   "execution_count": null,
   "metadata": {},
   "outputs": [],
   "source": [
    "depts_pt =  pd.pivot_table(depts_enr, values='enr', index=[\"year\"], columns=[\"subj\"])\n",
    "depts_pt"
   ]
  },
  {
   "cell_type": "markdown",
   "metadata": {},
   "source": [
    "# Plot selected columns of the pivot table\n",
    "We can now select a few columns and plot them!"
   ]
  },
  {
   "cell_type": "code",
   "execution_count": null,
   "metadata": {},
   "outputs": [],
   "source": [
    "depts_pt[['BIOL','CHEM','COSI','MATH','PHYS','BCHM']].plot(figsize=(15,10))\n",
    "plt.grid()\n",
    "plt.title(\"STEM Enrollments from 2004-2020\")\n",
    "plt.axis([2000,2022,0,3500])\n",
    "plt.savefig('images/stemenr.png')"
   ]
  },
  {
   "cell_type": "code",
   "execution_count": null,
   "metadata": {},
   "outputs": [],
   "source": [
    "depts_pt.plot(figsize=(15,10))\n",
    "plt.legend([])"
   ]
  },
  {
   "cell_type": "markdown",
   "metadata": {},
   "source": [
    "## Most popular course at Brandeis"
   ]
  },
  {
   "cell_type": "code",
   "execution_count": null,
   "metadata": {},
   "outputs": [],
   "source": [
    "df"
   ]
  },
  {
   "cell_type": "code",
   "execution_count": null,
   "metadata": {},
   "outputs": [],
   "source": [
    "df2 = df[df['code']>1042]\n",
    "courses = df2.groupby(['title'])['enr'].agg(sum)\n",
    "courses.sort_values(inplace=True,ascending=False)\n",
    "courses.head(10)"
   ]
  },
  {
   "cell_type": "code",
   "execution_count": null,
   "metadata": {},
   "outputs": [],
   "source": [
    "fac = df.groupby('title')\n",
    "fac = fac['enr'].agg([sum])\n",
    "fac = fac.sort_values(ascending=False, by='sum').head(10)\n",
    "fac"
   ]
  },
  {
   "cell_type": "code",
   "execution_count": null,
   "metadata": {},
   "outputs": [],
   "source": [
    "popcourses = df.groupby('title')['enr'].agg([sum]).sort_values(ascending=False, by='sum').head(10)\n",
    "popcourses\n"
   ]
  },
  {
   "cell_type": "code",
   "execution_count": null,
   "metadata": {},
   "outputs": [],
   "source": []
  }
 ],
 "metadata": {
  "kernelspec": {
   "display_name": "Python 3 (ipykernel)",
   "language": "python",
   "name": "python3"
  },
  "language_info": {
   "codemirror_mode": {
    "name": "ipython",
    "version": 3
   },
   "file_extension": ".py",
   "mimetype": "text/x-python",
   "name": "python",
   "nbconvert_exporter": "python",
   "pygments_lexer": "ipython3",
   "version": "3.10.10"
  }
 },
 "nbformat": 4,
 "nbformat_minor": 4
}
